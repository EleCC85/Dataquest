{
 "cells": [
  {
   "cell_type": "markdown",
   "metadata": {},
   "source": [
    "# Finding the most attractive App - Analyzing App Store and Google Play Markets"
   ]
  },
  {
   "cell_type": "markdown",
   "metadata": {},
   "source": [
    "Our goal is to identify the profile of the app that is more profitable, analyzing App Store and Google Play Markets. \n",
    "This help our developers to make data-driven decisions with respect to the kind of apps are likely to attract more users. "
   ]
  },
  {
   "cell_type": "markdown",
   "metadata": {},
   "source": [
    "## Opening and Exploring Data"
   ]
  },
  {
   "cell_type": "markdown",
   "metadata": {},
   "source": [
    "Considering the huge quantity of apps, we try to analyze a sample of data. In particular, we decide to analyze two existing data sets at no cost:\n",
    "* a data set cointaing data about approximately ten thousand Android apps from Google Play. You can download the data set directly from [here](files/googleplaystore.csv).\n",
    "* a data set cointaing data about approximately seven thousand iOs apps from App Store. You can download the data set directly from [here](files/AppleStore.csv)."
   ]
  },
  {
   "cell_type": "code",
   "execution_count": 58,
   "metadata": {},
   "outputs": [],
   "source": [
    "from csv import reader \n",
    "### The Google Play data set ###\n",
    "opened_file = open('C:/Users/Acer/Dataquest_projects/App Profile/googleplaystore.csv', encoding='utf8')\n",
    "read_file=reader(opened_file)\n",
    "android = list(read_file)\n",
    "android_header = android[0]\n",
    "android = android[1:]"
   ]
  },
  {
   "cell_type": "code",
   "execution_count": 59,
   "metadata": {},
   "outputs": [],
   "source": [
    "### The App Store data set ###\n",
    "opened_file = open('C:/Users/Acer/Dataquest_projects/App Profile/AppleStore.csv', encoding='utf8')\n",
    "read_file=reader(opened_file)\n",
    "ios = list(read_file)\n",
    "ios_header = ios[0]\n",
    "ios = ios[1:]"
   ]
  },
  {
   "cell_type": "markdown",
   "metadata": {},
   "source": [
    "We want to explore the two data sets, so we'll create a function named explore_data() that we can use repeatedly to explore rows in a more readable way. We'll also add an option for our function to show the number of rows and columns for any data set."
   ]
  },
  {
   "cell_type": "code",
   "execution_count": 60,
   "metadata": {},
   "outputs": [
    {
     "name": "stdout",
     "output_type": "stream",
     "text": [
      "['App', 'Category', 'Rating', 'Reviews', 'Size', 'Installs', 'Type', 'Price', 'Content Rating', 'Genres', 'Last Updated', 'Current Ver', 'Android Ver']\n",
      "\n",
      "\n",
      "['Photo Editor & Candy Camera & Grid & ScrapBook', 'ART_AND_DESIGN', '4.1', '159', '19M', '10,000+', 'Free', '0', 'Everyone', 'Art & Design', 'January 7, 2018', '1.0.0', '4.0.3 and up']\n",
      "\n",
      "\n",
      "['Coloring book moana', 'ART_AND_DESIGN', '3.9', '967', '14M', '500,000+', 'Free', '0', 'Everyone', 'Art & Design;Pretend Play', 'January 15, 2018', '2.0.0', '4.0.3 and up']\n",
      "\n",
      "\n",
      "['U Launcher Lite – FREE Live Cool Themes, Hide Apps', 'ART_AND_DESIGN', '4.7', '87510', '8.7M', '5,000,000+', 'Free', '0', 'Everyone', 'Art & Design', 'August 1, 2018', '1.2.4', '4.0.3 and up']\n",
      "\n",
      "\n",
      "Number of rows: 10841\n",
      "Number of columns: 13\n"
     ]
    }
   ],
   "source": [
    "def explore_data(dataset, start, end, row_and_columns=False):\n",
    "    dataset_slice=dataset[start:end]\n",
    "    for row in dataset_slice:\n",
    "        print(row)\n",
    "        print('\\n') # adds a new (empty) line between rows\n",
    "        \n",
    "    if row_and_columns:\n",
    "        print ('Number of rows:', len(dataset))\n",
    "        print ('Number of columns:', len(dataset[0]))\n",
    "\n",
    "        \n",
    "print(android_header)\n",
    "print('\\n')\n",
    "explore_data(android,0,3,True)"
   ]
  },
  {
   "cell_type": "markdown",
   "metadata": {},
   "source": [
    "The **columns** that might be uselful for our analysis are: **'App'**, **'Category'**, **'Reviews'**, **'Installs'**, **'Type'**, **'Price'** and **'Genres'**."
   ]
  },
  {
   "cell_type": "code",
   "execution_count": 61,
   "metadata": {},
   "outputs": [
    {
     "name": "stdout",
     "output_type": "stream",
     "text": [
      "['id', 'track_name', 'size_bytes', 'currency', 'price', 'rating_count_tot', 'rating_count_ver', 'user_rating', 'user_rating_ver', 'ver', 'cont_rating', 'prime_genre', 'sup_devices.num', 'ipadSc_urls.num', 'lang.num', 'vpp_lic']\n",
      "\n",
      "\n",
      "['284882215', 'Facebook', '389879808', 'USD', '0.0', '2974676', '212', '3.5', '3.5', '95.0', '4+', 'Social Networking', '37', '1', '29', '1']\n",
      "\n",
      "\n",
      "['389801252', 'Instagram', '113954816', 'USD', '0.0', '2161558', '1289', '4.5', '4.0', '10.23', '12+', 'Photo & Video', '37', '0', '29', '1']\n",
      "\n",
      "\n",
      "['529479190', 'Clash of Clans', '116476928', 'USD', '0.0', '2130805', '579', '4.5', '4.5', '9.24.12', '9+', 'Games', '38', '5', '18', '1']\n",
      "\n",
      "\n",
      "Number of rows: 7197\n",
      "Number of columns: 16\n"
     ]
    }
   ],
   "source": [
    "print(ios_header)\n",
    "print('\\n')\n",
    "explore_data(ios,0,3,True)"
   ]
  },
  {
   "cell_type": "markdown",
   "metadata": {},
   "source": [
    "Looking at the **columns**, we can find interesting: **\"track_name\"**, **\"currency\"**, **\"price\"**, **\"rating_count_tot\"** and **\"prime_genre\"**. \n",
    "\n",
    "We can find the details about the other columns [here](https://www.kaggle.com/ramamet4/app-store-apple-data-set-10k-apps/home). "
   ]
  },
  {
   "cell_type": "markdown",
   "metadata": {},
   "source": [
    "## Deleting Wrong Data"
   ]
  },
  {
   "cell_type": "markdown",
   "metadata": {},
   "source": [
    "The Google Play data set has a dedicated [discussion section](https://www.kaggle.com/ramamet4/app-store-apple-data-set-10k-apps/discussion), and we can see that [one of the discussion](https://www.kaggle.com/lava18/google-play-store-apps/discussion/66015) outlines an error for row 10472. Let's print this row and compare it against the header and another row that is correct."
   ]
  },
  {
   "cell_type": "code",
   "execution_count": 62,
   "metadata": {},
   "outputs": [
    {
     "name": "stdout",
     "output_type": "stream",
     "text": [
      "['Life Made WI-Fi Touchscreen Photo Frame', '1.9', '19', '3.0M', '1,000+', 'Free', '0', 'Everyone', '', 'February 11, 2018', '1.0.19', '4.0 and up']\n",
      "\n",
      "\n",
      "['App', 'Category', 'Rating', 'Reviews', 'Size', 'Installs', 'Type', 'Price', 'Content Rating', 'Genres', 'Last Updated', 'Current Ver', 'Android Ver']\n",
      "\n",
      "\n",
      "['Coloring book moana', 'ART_AND_DESIGN', '3.9', '967', '14M', '500,000+', 'Free', '0', 'Everyone', 'Art & Design;Pretend Play', 'January 15, 2018', '2.0.0', '4.0.3 and up']\n"
     ]
    }
   ],
   "source": [
    "print (android[10472]) # incorrect row\n",
    "print('\\n')\n",
    "print(android_header) # header\n",
    "print('\\n')\n",
    "print(android[1]) # correct row"
   ]
  },
  {
   "cell_type": "markdown",
   "metadata": {},
   "source": [
    "The row 10472 corresponds to the app *Life Made WI-Fi Touchscreen Photo Frame*, and we can see that the ratins is 19. This is clearly off because the maximum rating for a Google Play app is 5. As a consequence, we'll delete this row. "
   ]
  },
  {
   "cell_type": "code",
   "execution_count": 63,
   "metadata": {},
   "outputs": [
    {
     "name": "stdout",
     "output_type": "stream",
     "text": [
      "10841\n",
      "10840\n"
     ]
    }
   ],
   "source": [
    "print(len(android))\n",
    "del android[10472] #don't run this more than once\n",
    "print (len(android))"
   ]
  },
  {
   "cell_type": "markdown",
   "metadata": {},
   "source": [
    "## Removing Duplicate Entries"
   ]
  },
  {
   "cell_type": "markdown",
   "metadata": {},
   "source": [
    "If we explore the Google Play data set long enough, we'll find that some apps have more than one entry. For istance, the application Instagram has four entries."
   ]
  },
  {
   "cell_type": "code",
   "execution_count": 64,
   "metadata": {},
   "outputs": [
    {
     "name": "stdout",
     "output_type": "stream",
     "text": [
      "['Instagram', 'SOCIAL', '4.5', '66577313', 'Varies with device', '1,000,000,000+', 'Free', '0', 'Teen', 'Social', 'July 31, 2018', 'Varies with device', 'Varies with device']\n",
      "['Instagram', 'SOCIAL', '4.5', '66577446', 'Varies with device', '1,000,000,000+', 'Free', '0', 'Teen', 'Social', 'July 31, 2018', 'Varies with device', 'Varies with device']\n",
      "['Instagram', 'SOCIAL', '4.5', '66577313', 'Varies with device', '1,000,000,000+', 'Free', '0', 'Teen', 'Social', 'July 31, 2018', 'Varies with device', 'Varies with device']\n",
      "['Instagram', 'SOCIAL', '4.5', '66509917', 'Varies with device', '1,000,000,000+', 'Free', '0', 'Teen', 'Social', 'July 31, 2018', 'Varies with device', 'Varies with device']\n"
     ]
    }
   ],
   "source": [
    "for app in android:\n",
    "    name=app[0]\n",
    "    if name == 'Instagram':\n",
    "        print(app)"
   ]
  },
  {
   "cell_type": "code",
   "execution_count": 65,
   "metadata": {},
   "outputs": [],
   "source": [
    "how_many_times_app={}\n",
    "for app in android:\n",
    "    name=app[0]\n",
    "    if name in how_many_times_app:\n",
    "        how_many_times_app[name]+=1 # counts how many time the app appears\n",
    "    else:\n",
    "        how_many_times_app[name]=1 \n",
    "\n",
    "# in name_app we can see haw many time every app appears \n"
   ]
  },
  {
   "cell_type": "markdown",
   "metadata": {},
   "source": [
    "In total, there are 1.181 cases where an app occurs more than once:"
   ]
  },
  {
   "cell_type": "code",
   "execution_count": 66,
   "metadata": {},
   "outputs": [
    {
     "name": "stdout",
     "output_type": "stream",
     "text": [
      "1181\n"
     ]
    }
   ],
   "source": [
    "more_than_once=[]\n",
    "\n",
    "times_more_than_one = 0\n",
    "\n",
    "for app in how_many_times_app:\n",
    "    if how_many_times_app[app]>1:\n",
    "        more_than_once.append(app)\n",
    "        times_more_than_one += how_many_times_app[app]-1 #-1 because a app has to occur only one time\n",
    "            \n",
    "print(times_more_than_one) # how many times apps appear more than one "
   ]
  },
  {
   "cell_type": "markdown",
   "metadata": {},
   "source": [
    "We don't want to remove rows randomly, but we'll keep the rows that have the highest number of reviews because the higher the number of reviews, the more realiable the ratings."
   ]
  },
  {
   "cell_type": "code",
   "execution_count": 67,
   "metadata": {},
   "outputs": [],
   "source": [
    "reviews_max = {}\n",
    "\n",
    "for app in android:\n",
    "    name = app[0]\n",
    "    n_reviews = float(app[3])\n",
    "    \n",
    "    if name in reviews_max and reviews_max[name] < n_reviews:\n",
    "        reviews_max[name] = n_reviews\n",
    "        \n",
    "    elif name not in reviews_max:\n",
    "        reviews_max[name] = n_reviews"
   ]
  },
  {
   "cell_type": "markdown",
   "metadata": {},
   "source": [
    "In a previous code cell, we found that are 1.181 cases where an app occurs more than once, so the lenght of our dictionary (of unique apps) should be equal to the difference between the lenght of our data set and 1181 "
   ]
  },
  {
   "cell_type": "code",
   "execution_count": 68,
   "metadata": {},
   "outputs": [
    {
     "name": "stdout",
     "output_type": "stream",
     "text": [
      "Expected lenght 9659\n",
      "Actual lenght 9659\n"
     ]
    }
   ],
   "source": [
    "print ('Expected lenght',len(android)-1181)\n",
    "print ('Actual lenght',len(reviews_max))"
   ]
  },
  {
   "cell_type": "markdown",
   "metadata": {},
   "source": [
    "\n",
    "Now, let's use the reviews_max dictionary to remove the duplicates. For the duplicate cases, we'll only keep the entries with the highest number of reviews. In the code cell below:\n",
    "\n",
    "* We start by initializing two empty lists, android_clean and already_added.\n",
    "* We loop through the android data set, and for every iteration:\n",
    "   * We isolate the name of the app and the number of reviews.\n",
    "   * We add the current row (app) to the android_clean list, and the app name (name) to the already_added list if:\n",
    "     * The number of reviews of the current app matches the number of reviews of that app as described in the reviews_max dictionary; and\n",
    "     * The name of the app is not already in the already_added list. We need to add this supplementary condition to account for those cases where the highest number of reviews of a duplicate app is the same for more than one entry (for example, the Box app has three entries, and the number of reviews is the same). If we just check for reviews_max[name] == n_reviews, we'll still end up with duplicate entries for some apps."
   ]
  },
  {
   "cell_type": "code",
   "execution_count": 69,
   "metadata": {},
   "outputs": [],
   "source": [
    "android_clean = []\n",
    "already_added = []\n",
    "\n",
    "for app in android:\n",
    "    name = app[0]\n",
    "    n_reviews = float(app[3])\n",
    "    \n",
    "    if (reviews_max[name] == n_reviews) and (name not in already_added):\n",
    "        android_clean.append(app)\n",
    "        already_added.append(name) # make sure this is inside the if block"
   ]
  },
  {
   "cell_type": "markdown",
   "metadata": {},
   "source": [
    "Now let's quickly explore the new data set, and confirm that the number of rows is 9,659."
   ]
  },
  {
   "cell_type": "code",
   "execution_count": 70,
   "metadata": {},
   "outputs": [
    {
     "name": "stdout",
     "output_type": "stream",
     "text": [
      "['Photo Editor & Candy Camera & Grid & ScrapBook', 'ART_AND_DESIGN', '4.1', '159', '19M', '10,000+', 'Free', '0', 'Everyone', 'Art & Design', 'January 7, 2018', '1.0.0', '4.0.3 and up']\n",
      "\n",
      "\n",
      "['U Launcher Lite – FREE Live Cool Themes, Hide Apps', 'ART_AND_DESIGN', '4.7', '87510', '8.7M', '5,000,000+', 'Free', '0', 'Everyone', 'Art & Design', 'August 1, 2018', '1.2.4', '4.0.3 and up']\n",
      "\n",
      "\n",
      "['Sketch - Draw & Paint', 'ART_AND_DESIGN', '4.5', '215644', '25M', '50,000,000+', 'Free', '0', 'Teen', 'Art & Design', 'June 8, 2018', 'Varies with device', '4.2 and up']\n",
      "\n",
      "\n",
      "Number of rows: 9659\n",
      "Number of columns: 13\n"
     ]
    }
   ],
   "source": [
    "explore_data(android_clean, 0, 3, True)"
   ]
  },
  {
   "cell_type": "markdown",
   "metadata": {},
   "source": [
    "We have 9659 rows, just as expected."
   ]
  },
  {
   "cell_type": "markdown",
   "metadata": {},
   "source": [
    "## Removing Non-English Apps"
   ]
  },
  {
   "cell_type": "markdown",
   "metadata": {},
   "source": [
    "If we explore the data sets enough, we can notice that there are names of some apps that are not for an English-speaking audience.\n",
    "Below, we see a couple of examples from both data sets:"
   ]
  },
  {
   "cell_type": "code",
   "execution_count": 71,
   "metadata": {},
   "outputs": [
    {
     "name": "stdout",
     "output_type": "stream",
     "text": [
      "爱奇艺PPS -《欢乐颂2》电视剧热播\n",
      "【脱出ゲーム】絶対に最後までプレイしないで 〜謎解き＆ブロックパズル〜\n",
      "中国語 AQリスニング\n",
      "لعبة تقدر تربح DZ\n"
     ]
    }
   ],
   "source": [
    "print(ios[813][1])\n",
    "print(ios[6731][1])\n",
    "\n",
    "print(android_clean[4412][0])\n",
    "print(android_clean[7940][0])"
   ]
  },
  {
   "cell_type": "markdown",
   "metadata": {},
   "source": [
    "So, we'll remove all the apps that contains symbol that is not commonly used in English text. All the character that are specific to English texts (English alphabet, numbers, punctuation marks and symbols like +,\\*,..) are encoded using the ASCII standard. \n",
    "Each ASCII character has a corresponding number between 0 and 127 associated with it, and we can take advantage of that to build a function that checks an app name and tells us whether it contains non-ASCII characters. "
   ]
  },
  {
   "cell_type": "code",
   "execution_count": 72,
   "metadata": {},
   "outputs": [],
   "source": [
    "def is_english(string):\n",
    "    \n",
    "    for character in string:\n",
    "        if ord(character)>127:\n",
    "            return False\n",
    "        \n",
    "    return True"
   ]
  },
  {
   "cell_type": "code",
   "execution_count": 73,
   "metadata": {},
   "outputs": [
    {
     "name": "stdout",
     "output_type": "stream",
     "text": [
      "False\n",
      "True\n"
     ]
    }
   ],
   "source": [
    "print(is_english('爱奇艺PPS -《欢乐颂2》电视剧热播'))\n",
    "print(is_english('Instagram'))"
   ]
  },
  {
   "cell_type": "markdown",
   "metadata": {},
   "source": [
    "The function seems to work fine, but some English app names use emojis or other symbols (™, — (em dash), – (en dash), etc.) that fall outside of the ASCII range. Because of this, we'll remove useful apps if we use the function in its current form."
   ]
  },
  {
   "cell_type": "code",
   "execution_count": 74,
   "metadata": {},
   "outputs": [
    {
     "name": "stdout",
     "output_type": "stream",
     "text": [
      "False\n",
      "False\n",
      "8482\n",
      "128540\n"
     ]
    }
   ],
   "source": [
    "print(is_english('Docs To Go™ Free Office Suite'))\n",
    "print(is_english('Instachat 😜'))\n",
    "\n",
    "print(ord('™'))\n",
    "print(ord('😜'))"
   ]
  },
  {
   "cell_type": "markdown",
   "metadata": {},
   "source": [
    "To minimize the impact of data loss, we'll only remove an app if its name has more than three non-ASCII characters:"
   ]
  },
  {
   "cell_type": "code",
   "execution_count": 75,
   "metadata": {},
   "outputs": [
    {
     "name": "stdout",
     "output_type": "stream",
     "text": [
      "True\n",
      "True\n",
      "False\n"
     ]
    }
   ],
   "source": [
    "def is_english(string):\n",
    "    no_ascii = 0\n",
    "    for character in string:\n",
    "        if ord(character)>127:\n",
    "            no_ascii += 1\n",
    "            \n",
    "    if no_ascii > 3:\n",
    "        return False\n",
    "    else:\n",
    "        return True\n",
    "\n",
    "print(is_english('Docs To Go™ Free Office Suite'))\n",
    "print(is_english('Instachat 😜'))\n",
    "print(is_english('爱奇艺PPS -《欢乐颂2》电视剧热播'))"
   ]
  },
  {
   "cell_type": "markdown",
   "metadata": {},
   "source": [
    "The function is still not perfect, and very few non-English apps might get past our filter, but this seems good enough at this point in our analysis. "
   ]
  },
  {
   "cell_type": "code",
   "execution_count": 76,
   "metadata": {},
   "outputs": [
    {
     "name": "stdout",
     "output_type": "stream",
     "text": [
      "['Photo Editor & Candy Camera & Grid & ScrapBook', 'ART_AND_DESIGN', '4.1', '159', '19M', '10,000+', 'Free', '0', 'Everyone', 'Art & Design', 'January 7, 2018', '1.0.0', '4.0.3 and up']\n",
      "\n",
      "\n",
      "['U Launcher Lite – FREE Live Cool Themes, Hide Apps', 'ART_AND_DESIGN', '4.7', '87510', '8.7M', '5,000,000+', 'Free', '0', 'Everyone', 'Art & Design', 'August 1, 2018', '1.2.4', '4.0.3 and up']\n",
      "\n",
      "\n",
      "['Sketch - Draw & Paint', 'ART_AND_DESIGN', '4.5', '215644', '25M', '50,000,000+', 'Free', '0', 'Teen', 'Art & Design', 'June 8, 2018', 'Varies with device', '4.2 and up']\n",
      "\n",
      "\n",
      "Number of rows: 9614\n",
      "Number of columns: 13\n",
      "\n",
      "\n",
      "['284882215', 'Facebook', '389879808', 'USD', '0.0', '2974676', '212', '3.5', '3.5', '95.0', '4+', 'Social Networking', '37', '1', '29', '1']\n",
      "\n",
      "\n",
      "['389801252', 'Instagram', '113954816', 'USD', '0.0', '2161558', '1289', '4.5', '4.0', '10.23', '12+', 'Photo & Video', '37', '0', '29', '1']\n",
      "\n",
      "\n",
      "['529479190', 'Clash of Clans', '116476928', 'USD', '0.0', '2130805', '579', '4.5', '4.5', '9.24.12', '9+', 'Games', '38', '5', '18', '1']\n",
      "\n",
      "\n",
      "Number of rows: 6183\n",
      "Number of columns: 16\n"
     ]
    }
   ],
   "source": [
    "android_english =[]\n",
    "ios_english = []\n",
    "\n",
    "for app in android_clean:\n",
    "    name = app[0]\n",
    "    if is_english(name):\n",
    "        android_english.append(app)\n",
    "        \n",
    "for app in ios:\n",
    "    name = app[1]\n",
    "    if is_english(name):\n",
    "        ios_english.append(app)\n",
    "        \n",
    "        \n",
    "explore_data(android_english,0,3,True)\n",
    "print('\\n')\n",
    "explore_data(ios_english,0,3,True)"
   ]
  },
  {
   "cell_type": "markdown",
   "metadata": {},
   "source": [
    "We can see that we're left with 9614 Android apps and 6183 iOS apps."
   ]
  },
  {
   "cell_type": "markdown",
   "metadata": {},
   "source": [
    "## Isolating the Free Apps"
   ]
  },
  {
   "cell_type": "markdown",
   "metadata": {},
   "source": [
    "As we mentioned in the introduction, we only build apps that are free to download and install. So, we need to isolate only the free apps for our analysis. "
   ]
  },
  {
   "cell_type": "code",
   "execution_count": 77,
   "metadata": {},
   "outputs": [
    {
     "name": "stdout",
     "output_type": "stream",
     "text": [
      "8864\n",
      "3222\n"
     ]
    }
   ],
   "source": [
    "android_free=[]\n",
    "ios_free=[]\n",
    "\n",
    "for app in android_english:\n",
    "    price = app[7]\n",
    "    if '$' in price:\n",
    "        price = price.replace('$','')\n",
    "    \n",
    "    price = float(price)\n",
    "    if price == 0:\n",
    "        android_free.append(app)\n",
    "        \n",
    "for app in ios_english:\n",
    "    price = app[4]\n",
    "    if '$' in price:\n",
    "        price = price.replace('$','')\n",
    "    \n",
    "    price = float(price)\n",
    "    \n",
    "    if price == 0.0 or price == 0:\n",
    "        ios_free.append(app)\n",
    "        \n",
    "        \n",
    "print(len(android_free))\n",
    "print(len(ios_free))\n",
    "        "
   ]
  },
  {
   "cell_type": "markdown",
   "metadata": {},
   "source": [
    "We're left with 8864 Android apps and 3222 iOS apps, which should be enough for our analysis."
   ]
  },
  {
   "cell_type": "markdown",
   "metadata": {},
   "source": [
    "## Most Common by Genre"
   ]
  },
  {
   "cell_type": "markdown",
   "metadata": {},
   "source": [
    "As we mentioned in the introduction, our aim is to determine the kinds of apps that are likely to attract more users because our revenue is highly influenced by the number of people using our apps.\n",
    "\n",
    "To minimize risks and overhead, our validation strategy for an app idea is comprised of three steps:\n",
    "\n",
    "1. One Build a minimal Android version of the app, and add it to Google Play.\n",
    "2. Two If the app has a good response from users, we develop it further.\n",
    "3. Three If the app is profitable after six months, we build an iOS version of the app and add it to the App Store.\n",
    "\n",
    "Because our end goal is to add the app on both Google Play and the App Store, we need to find app profiles that are successful on both markets. For instance, a profile that works well for both markets might be a productivity app that makes use of gamification.\n",
    "\n",
    "Let's begin the analysis by getting a sense of what are the most common genres for each market. For this, we'll need to build frequency tables for a few columns in our data sets."
   ]
  },
  {
   "cell_type": "markdown",
   "metadata": {},
   "source": [
    "We'll build two functions we can use to analyze the frequency tables:\n",
    "\n",
    "* One function to generate frequency tables that show percentages\n",
    "* Another function that we can use to display the percentages in a descending order"
   ]
  },
  {
   "cell_type": "code",
   "execution_count": 78,
   "metadata": {},
   "outputs": [],
   "source": [
    "genres_android = {} # Google Play Store - dictionary where the keys are the genres and the values are the absolute frequencies\n",
    "genres_ios = {}     # Apple Store - dictionary where the keys are the genres and the values are the absolute frequencies\n",
    "\n",
    "for app in android_free:\n",
    "    genre = app[9]\n",
    "    if genre in genres_android:\n",
    "        genres_android[genre] += 1\n",
    "    else:\n",
    "        genres_android[genre] = 1\n",
    "        \n",
    "for app in ios_free:\n",
    "    genre = app[11]\n",
    "    if genre in genres_ios:\n",
    "        genres_ios[genre] += 1\n",
    "    else:\n",
    "        genres_ios[genre] = 1\n",
    "\n",
    "table_frequency_android = {} # Google Play Store - table  of percentage frequencies for genres\n",
    "table_frequency_ios = {}     # Apple Store - table  of percentage frequencies for genres\n",
    "\n",
    "for genre in genres_android:\n",
    "    table_frequency_android[genre] = 100*genres_android[genre] / len(android_free)\n",
    "    \n",
    "for genre in genres_ios:\n",
    "    table_frequency_ios[genre] = 100*genres_ios[genre] / len(ios_free)\n",
    "\n",
    "# tables of percentage frequencies ordered by values\n",
    "\n",
    "table_frequency_android_ordered={k: v for k, v in sorted(table_frequency_android.items(), key=lambda item: item[1], reverse=True)}\n",
    "\n",
    "table_frequency_ios_ordered={k: v for k, v in sorted(table_frequency_ios.items(), key=lambda item: item[1], reverse=True)}"
   ]
  },
  {
   "cell_type": "markdown",
   "metadata": {},
   "source": [
    "**APPLE STORE - Table of frequency for Genre**\n"
   ]
  },
  {
   "cell_type": "code",
   "execution_count": 79,
   "metadata": {},
   "outputs": [
    {
     "name": "stdout",
     "output_type": "stream",
     "text": [
      "Games: 58.16263190564867\n",
      "Entertainment: 7.883302296710118\n",
      "Photo & Video: 4.9658597144630665\n",
      "Education: 3.6623215394165114\n",
      "Social Networking: 3.2898820608317814\n",
      "Shopping: 2.60707635009311\n",
      "Utilities: 2.5139664804469275\n",
      "Sports: 2.1415270018621975\n",
      "Music: 2.0484171322160147\n",
      "Health & Fitness: 2.017380509000621\n",
      "Productivity: 1.7380509000620732\n",
      "Lifestyle: 1.5828677839851024\n",
      "News: 1.3345747982619491\n",
      "Travel: 1.2414649286157666\n",
      "Finance: 1.1173184357541899\n",
      "Weather: 0.8690254500310366\n",
      "Food & Drink: 0.8069522036002483\n",
      "Reference: 0.5586592178770949\n",
      "Business: 0.5276225946617008\n",
      "Book: 0.4345127250155183\n",
      "Navigation: 0.186219739292365\n",
      "Medical: 0.186219739292365\n",
      "Catalogs: 0.12414649286157665\n"
     ]
    }
   ],
   "source": [
    "for genre in table_frequency_ios_ordered:\n",
    "    print(genre + ': '+ str(table_frequency_ios_ordered[genre]) )"
   ]
  },
  {
   "cell_type": "markdown",
   "metadata": {},
   "source": [
    "We can see that among the free English apps, more than a half (58.16%) are games. Entertainment apps are close to 8%, followed by photo and video apps, which are close to 5%. Only 3.66% of the apps are designed for education, followed by social networking apps which amount for 3.29% of the apps in our data set.\n",
    "\n",
    "The general impression is that App Store (at least the part containing free English apps) is dominated by apps that are designed for fun (games, entertainment, photo and video, social networking, sports, music, etc.), while apps with practical purposes (education, shopping, utilities, productivity, lifestyle, etc.) are more rare. However, the fact that fun apps are the most numerous doesn't also imply that they also have the greatest number of users — the demand might not be the same as the offer.\n",
    "\n",
    "Let's continue by examining the Genres and Category columns of the Google Play data set (two columns which seem to be related)."
   ]
  },
  {
   "cell_type": "code",
   "execution_count": 80,
   "metadata": {},
   "outputs": [],
   "source": [
    "category_android = {} # Google Play Store - dictionary where the keys are the categories and the values are the absolute frequencies\n",
    "\n",
    "for app in android_free:\n",
    "    category = app[1]\n",
    "    if category in category_android:\n",
    "        category_android[category] += 1\n",
    "    else:\n",
    "        category_android[category] = 1   \n",
    "\n",
    "table_frequency_category_android = {} # Google Play Store - table  of percentage frequencies for categories\n",
    "\n",
    "for category in category_android:\n",
    "    table_frequency_category_android[category] = 100*category_android[category] / len(android_free)\n",
    "    \n",
    "\n",
    "# tables of percentage frequencies ordered by values\n",
    "\n",
    "table_frequency_category_android_ordered={k: v for k, v in sorted(table_frequency_category_android.items(), key=lambda item: item[1], reverse=True)}\n"
   ]
  },
  {
   "cell_type": "markdown",
   "metadata": {},
   "source": [
    "**GOOGLE PLAY STORE - Table of frequency for Category**"
   ]
  },
  {
   "cell_type": "code",
   "execution_count": 81,
   "metadata": {},
   "outputs": [
    {
     "name": "stdout",
     "output_type": "stream",
     "text": [
      "FAMILY: 18.907942238267147\n",
      "GAME: 9.724729241877256\n",
      "TOOLS: 8.461191335740072\n",
      "BUSINESS: 4.591606498194946\n",
      "LIFESTYLE: 3.9034296028880866\n",
      "PRODUCTIVITY: 3.892148014440433\n",
      "FINANCE: 3.700361010830325\n",
      "MEDICAL: 3.5311371841155235\n",
      "SPORTS: 3.395758122743682\n",
      "PERSONALIZATION: 3.3167870036101084\n",
      "COMMUNICATION: 3.237815884476534\n",
      "HEALTH_AND_FITNESS: 3.079873646209386\n",
      "PHOTOGRAPHY: 2.9444945848375452\n",
      "NEWS_AND_MAGAZINES: 2.7978339350180503\n",
      "SOCIAL: 2.6624548736462095\n",
      "TRAVEL_AND_LOCAL: 2.33528880866426\n",
      "SHOPPING: 2.2450361010830324\n",
      "BOOKS_AND_REFERENCE: 2.1435018050541514\n",
      "DATING: 1.861462093862816\n",
      "VIDEO_PLAYERS: 1.7937725631768953\n",
      "MAPS_AND_NAVIGATION: 1.3989169675090252\n",
      "FOOD_AND_DRINK: 1.2409747292418774\n",
      "EDUCATION: 1.1620036101083033\n",
      "ENTERTAINMENT: 0.9589350180505415\n",
      "LIBRARIES_AND_DEMO: 0.9363718411552346\n",
      "AUTO_AND_VEHICLES: 0.9250902527075813\n",
      "HOUSE_AND_HOME: 0.8235559566787004\n",
      "WEATHER: 0.8009927797833934\n",
      "EVENTS: 0.7107400722021661\n",
      "PARENTING: 0.6543321299638989\n",
      "ART_AND_DESIGN: 0.6430505415162455\n",
      "COMICS: 0.6204873646209387\n",
      "BEAUTY: 0.5979241877256317\n"
     ]
    }
   ],
   "source": [
    "for category in table_frequency_category_android_ordered:\n",
    "    print(category + ': '+ str(table_frequency_category_android_ordered[category]) )"
   ]
  },
  {
   "cell_type": "markdown",
   "metadata": {},
   "source": [
    "The landscape seems significantly different on Google Play: there are not that many apps designed for fun, and it seems that a good number of apps are designed for practical purposes (family, tools, business, lifestyle, productivity, etc.). However, if we investigate this further, we can see that the family category (which accounts for almost 19% of the apps) means mostly games for kids.\n",
    "\n",
    "Even so, practical apps seem to have a better representation on Google Play compared to App Store. This picture is also confirmed by the frequency table we see for the Genres column:"
   ]
  },
  {
   "cell_type": "markdown",
   "metadata": {},
   "source": [
    "**GOOGLE PLAY STORE - Table of frequency for Genre**"
   ]
  },
  {
   "cell_type": "code",
   "execution_count": 82,
   "metadata": {},
   "outputs": [
    {
     "name": "stdout",
     "output_type": "stream",
     "text": [
      "Tools: 8.449909747292418\n",
      "Entertainment: 6.069494584837545\n",
      "Education: 5.347472924187725\n",
      "Business: 4.591606498194946\n",
      "Lifestyle: 3.892148014440433\n",
      "Productivity: 3.892148014440433\n",
      "Finance: 3.700361010830325\n",
      "Medical: 3.5311371841155235\n",
      "Sports: 3.463447653429603\n",
      "Personalization: 3.3167870036101084\n",
      "Communication: 3.237815884476534\n",
      "Action: 3.1024368231046933\n",
      "Health & Fitness: 3.079873646209386\n",
      "Photography: 2.9444945848375452\n",
      "News & Magazines: 2.7978339350180503\n",
      "Social: 2.6624548736462095\n",
      "Travel & Local: 2.3240072202166067\n",
      "Shopping: 2.2450361010830324\n",
      "Books & Reference: 2.1435018050541514\n",
      "Simulation: 2.041967509025271\n",
      "Dating: 1.861462093862816\n",
      "Arcade: 1.8501805054151625\n",
      "Video Players & Editors: 1.7712093862815885\n",
      "Casual: 1.759927797833935\n",
      "Maps & Navigation: 1.3989169675090252\n",
      "Food & Drink: 1.2409747292418774\n",
      "Puzzle: 1.128158844765343\n",
      "Racing: 0.9927797833935018\n",
      "Libraries & Demo: 0.9363718411552346\n",
      "Role Playing: 0.9363718411552346\n",
      "Auto & Vehicles: 0.9250902527075813\n",
      "Strategy: 0.9138086642599278\n",
      "House & Home: 0.8235559566787004\n",
      "Weather: 0.8009927797833934\n",
      "Events: 0.7107400722021661\n",
      "Adventure: 0.6768953068592057\n",
      "Comics: 0.6092057761732852\n",
      "Art & Design: 0.5979241877256317\n",
      "Beauty: 0.5979241877256317\n",
      "Parenting: 0.4963898916967509\n",
      "Card: 0.45126353790613716\n",
      "Casino: 0.4287003610108303\n",
      "Trivia: 0.4174187725631769\n",
      "Educational;Education: 0.39485559566787004\n",
      "Board: 0.3835740072202166\n",
      "Educational: 0.3722924187725632\n",
      "Education;Education: 0.33844765342960287\n",
      "Word: 0.2594765342960289\n",
      "Casual;Pretend Play: 0.23691335740072203\n",
      "Music: 0.20306859205776173\n",
      "Entertainment;Music & Video: 0.16922382671480143\n",
      "Puzzle;Brain Games: 0.16922382671480143\n",
      "Racing;Action & Adventure: 0.16922382671480143\n",
      "Casual;Brain Games: 0.13537906137184116\n",
      "Casual;Action & Adventure: 0.13537906137184116\n",
      "Arcade;Action & Adventure: 0.12409747292418773\n",
      "Action;Action & Adventure: 0.10153429602888087\n",
      "Educational;Pretend Play: 0.09025270758122744\n",
      "Entertainment;Brain Games: 0.078971119133574\n",
      "Simulation;Action & Adventure: 0.078971119133574\n",
      "Board;Brain Games: 0.078971119133574\n",
      "Parenting;Education: 0.078971119133574\n",
      "Art & Design;Creativity: 0.06768953068592058\n",
      "Educational;Brain Games: 0.06768953068592058\n",
      "Casual;Creativity: 0.06768953068592058\n",
      "Parenting;Music & Video: 0.06768953068592058\n",
      "Education;Pretend Play: 0.056407942238267145\n",
      "Education;Creativity: 0.04512635379061372\n",
      "Role Playing;Pretend Play: 0.04512635379061372\n",
      "Education;Brain Games: 0.03384476534296029\n",
      "Entertainment;Creativity: 0.03384476534296029\n",
      "Educational;Creativity: 0.03384476534296029\n",
      "Adventure;Action & Adventure: 0.03384476534296029\n",
      "Role Playing;Action & Adventure: 0.03384476534296029\n",
      "Educational;Action & Adventure: 0.03384476534296029\n",
      "Entertainment;Action & Adventure: 0.03384476534296029\n",
      "Puzzle;Action & Adventure: 0.03384476534296029\n",
      "Education;Action & Adventure: 0.03384476534296029\n",
      "Education;Music & Video: 0.03384476534296029\n",
      "Casual;Education: 0.02256317689530686\n",
      "Music;Music & Video: 0.02256317689530686\n",
      "Simulation;Pretend Play: 0.02256317689530686\n",
      "Puzzle;Creativity: 0.02256317689530686\n",
      "Sports;Action & Adventure: 0.02256317689530686\n",
      "Board;Action & Adventure: 0.02256317689530686\n",
      "Entertainment;Pretend Play: 0.02256317689530686\n",
      "Video Players & Editors;Music & Video: 0.02256317689530686\n",
      "Comics;Creativity: 0.01128158844765343\n",
      "Lifestyle;Pretend Play: 0.01128158844765343\n",
      "Art & Design;Pretend Play: 0.01128158844765343\n",
      "Entertainment;Education: 0.01128158844765343\n",
      "Arcade;Pretend Play: 0.01128158844765343\n",
      "Art & Design;Action & Adventure: 0.01128158844765343\n",
      "Strategy;Action & Adventure: 0.01128158844765343\n",
      "Music & Audio;Music & Video: 0.01128158844765343\n",
      "Health & Fitness;Education: 0.01128158844765343\n",
      "Casual;Music & Video: 0.01128158844765343\n",
      "Travel & Local;Action & Adventure: 0.01128158844765343\n",
      "Tools;Education: 0.01128158844765343\n",
      "Parenting;Brain Games: 0.01128158844765343\n",
      "Video Players & Editors;Creativity: 0.01128158844765343\n",
      "Health & Fitness;Action & Adventure: 0.01128158844765343\n",
      "Trivia;Education: 0.01128158844765343\n",
      "Lifestyle;Education: 0.01128158844765343\n",
      "Card;Action & Adventure: 0.01128158844765343\n",
      "Books & Reference;Education: 0.01128158844765343\n",
      "Simulation;Education: 0.01128158844765343\n",
      "Puzzle;Education: 0.01128158844765343\n",
      "Adventure;Education: 0.01128158844765343\n",
      "Role Playing;Brain Games: 0.01128158844765343\n",
      "Strategy;Education: 0.01128158844765343\n",
      "Racing;Pretend Play: 0.01128158844765343\n",
      "Communication;Creativity: 0.01128158844765343\n",
      "Strategy;Creativity: 0.01128158844765343\n"
     ]
    }
   ],
   "source": [
    "for genre in table_frequency_android_ordered:\n",
    "    print(genre + ': '+ str(table_frequency_android_ordered[genre]) )"
   ]
  },
  {
   "cell_type": "markdown",
   "metadata": {},
   "source": [
    "The difference between the Genres and the Category columns is not crystal clear, but one thing we can notice is that the Genres column is much more granular (it has more categories). We're only looking for the bigger picture at the moment, so we'll only work with the Category column moving forward.\n",
    "\n",
    "Up to this point, we found that the App Store is dominated by apps designed for fun, while Google Play shows a more balanced landscape of both practical and for-fun apps. Now we'd like to get an idea about the kind of apps that have most users."
   ]
  },
  {
   "cell_type": "markdown",
   "metadata": {},
   "source": [
    "## Most Popular Apps by Genre on the App Store"
   ]
  },
  {
   "cell_type": "markdown",
   "metadata": {},
   "source": [
    "One way to find out what genres are the most popular (have the most users) is to calculate the average number of installs for each app genre. For the Google Play data set, we can find this information in the Installs column, but for the App Store data set this information is missing. As a workaround, we'll take the total number of user ratings as a proxy, which we can find in the rating_count_tot app.\n",
    "\n",
    "Below, we calculate the average number of user ratings per app genre on the App Store:"
   ]
  },
  {
   "cell_type": "code",
   "execution_count": 83,
   "metadata": {},
   "outputs": [
    {
     "name": "stdout",
     "output_type": "stream",
     "text": [
      "['343200656', 'Angry Birds', '175966208', 'USD', '0.0', '824451', '107', '4.5', '3.0', '7.4.0', '4+', 'Games', '38', '0', '10', '1']\n"
     ]
    }
   ],
   "source": [
    "print(ios_free[9])"
   ]
  },
  {
   "cell_type": "code",
   "execution_count": 84,
   "metadata": {},
   "outputs": [
    {
     "name": "stdout",
     "output_type": "stream",
     "text": [
      "Navigation: 86090.33333333333\n",
      "Reference: 74942.11111111111\n",
      "Social Networking: 71548.34905660378\n",
      "Music: 57326.530303030304\n",
      "Weather: 52279.892857142855\n",
      "Book: 39758.5\n",
      "Food & Drink: 33333.92307692308\n",
      "Finance: 31467.944444444445\n",
      "Photo & Video: 28441.54375\n",
      "Travel: 28243.8\n",
      "Shopping: 26919.690476190477\n",
      "Health & Fitness: 23298.015384615384\n",
      "Sports: 23008.898550724636\n",
      "Games: 22788.6696905016\n",
      "News: 21248.023255813954\n",
      "Productivity: 21028.410714285714\n",
      "Utilities: 18684.456790123455\n",
      "Lifestyle: 16485.764705882353\n",
      "Entertainment: 14029.830708661417\n",
      "Business: 7491.117647058823\n",
      "Education: 7003.983050847458\n",
      "Catalogs: 4004.0\n",
      "Medical: 612.0\n"
     ]
    }
   ],
   "source": [
    "ios_genre_rating={}\n",
    "\n",
    "for app in ios_free:\n",
    "    genre = app[11]\n",
    "    if genre in ios_genre_rating:\n",
    "        ios_genre_rating[genre] = ios_genre_rating[genre] + float(app[5])\n",
    "    else:\n",
    "        ios_genre_rating[genre] = float(app[5])\n",
    "                \n",
    "table_frequency_gen_rat={}\n",
    "\n",
    "for genre in genres_ios:\n",
    "    table_frequency_gen_rat[genre] = ios_genre_rating[genre] / genres_ios[genre]\n",
    "\n",
    "# tables of percentage frequencies ordered by values\n",
    "\n",
    "ios_table_frequency_gen_rat_ordered={k: v for k, v in sorted(table_frequency_gen_rat.items(), key=lambda item: item[1], reverse=True)}\n",
    "\n",
    "for genre in ios_table_frequency_gen_rat_ordered:\n",
    "    print(genre + ': '+ str(ios_table_frequency_gen_rat_ordered[genre]) )"
   ]
  },
  {
   "cell_type": "markdown",
   "metadata": {},
   "source": [
    "On average, navigation apps have the highest number of user reviews, but this figure is heavily influenced by Waze and Google Maps, which have close to half a million user reviews together:"
   ]
  },
  {
   "cell_type": "code",
   "execution_count": 85,
   "metadata": {},
   "outputs": [
    {
     "name": "stdout",
     "output_type": "stream",
     "text": [
      "Waze - GPS Navigation, Maps & Real-time Traffic : 345046\n",
      "Google Maps - Navigation & Transit : 154911\n",
      "Geocaching® : 12811\n",
      "CoPilot GPS – Car Navigation & Offline Maps : 3582\n",
      "ImmobilienScout24: Real Estate Search in Germany : 187\n",
      "Railway Route Search : 5\n"
     ]
    }
   ],
   "source": [
    "for app in ios_free:\n",
    "    if app[-5] == 'Navigation':\n",
    "        print(app[1], ':', app[5]) # print name and number of ratings"
   ]
  },
  {
   "cell_type": "markdown",
   "metadata": {},
   "source": [
    "The same pattern applies to social networking apps, where the average number is heavily influenced by a few giants like Facebook, Pinterest, Skype, etc. Same applies to music apps, where a few big players like Pandora, Spotify, and Shazam heavily influence the average number.\n",
    "\n",
    "Our aim is to find popular genres, but navigation, social networking or music apps might seem more popular than they really are. The average number of ratings seem to be skewed by very few apps which have hundreds of thousands of user ratings, while the other apps may struggle to get past the 10,000 threshold. We could get a better picture by removing these extremely popular apps for each genre and then rework the averages, but we'll leave this level of detail for later.\n",
    "\n",
    "Reference apps have 74,942 user ratings on average, but it's actually the Bible and Dictionary.com which skew up the average rating:"
   ]
  },
  {
   "cell_type": "code",
   "execution_count": 86,
   "metadata": {},
   "outputs": [
    {
     "name": "stdout",
     "output_type": "stream",
     "text": [
      "Bible : 985920\n",
      "Dictionary.com Dictionary & Thesaurus : 200047\n",
      "Dictionary.com Dictionary & Thesaurus for iPad : 54175\n",
      "Google Translate : 26786\n",
      "Muslim Pro: Ramadan 2017 Prayer Times, Azan, Quran : 18418\n",
      "New Furniture Mods - Pocket Wiki & Game Tools for Minecraft PC Edition : 17588\n",
      "Merriam-Webster Dictionary : 16849\n",
      "Night Sky : 12122\n",
      "City Maps for Minecraft PE - The Best Maps for Minecraft Pocket Edition (MCPE) : 8535\n",
      "LUCKY BLOCK MOD ™ for Minecraft PC Edition - The Best Pocket Wiki & Mods Installer Tools : 4693\n",
      "GUNS MODS for Minecraft PC Edition - Mods Tools : 1497\n",
      "Guides for Pokémon GO - Pokemon GO News and Cheats : 826\n",
      "WWDC : 762\n",
      "Horror Maps for Minecraft PE - Download The Scariest Maps for Minecraft Pocket Edition (MCPE) Free : 718\n",
      "VPN Express : 14\n",
      "Real Bike Traffic Rider Virtual Reality Glasses : 8\n",
      "教えて!goo : 0\n",
      "Jishokun-Japanese English Dictionary & Translator : 0\n"
     ]
    }
   ],
   "source": [
    "for app in ios_free:\n",
    "    if app[-5] == 'Reference':\n",
    "        print(app[1], ':', app[5])"
   ]
  },
  {
   "cell_type": "markdown",
   "metadata": {},
   "source": [
    "However, this niche seems to show some potential. One thing we could do is take another popular book and turn it into an app where we could add different features besides the raw version of the book. This might include daily quotes from the book, an audio version of the book, quizzes about the book, etc. On top of that, we could also embed a dictionary within the app, so users don't need to exit our app to look up words in an external app.\n",
    "\n",
    "This idea seems to fit well with the fact that the App Store is dominated by for-fun apps. This suggests the market might be a bit saturated with for-fun apps, which means a practical app might have more of a chance to stand out among the huge number of apps on the App Store.\n",
    "\n",
    "Other genres that seem popular include weather, book, food and drink, or finance. The book genre seem to overlap a bit with the app idea we described above, but the other genres don't seem too interesting to us:\n",
    "\n",
    "* Weather apps — people generally don't spend too much time in-app, and the chances of making profit from in-app adds are low. Also, getting reliable live weather data may require us to connect our apps to non-free APIs.\n",
    "\n",
    "* Food and drink — examples here include Starbucks, Dunkin' Donuts, McDonald's, etc. So making a popular food and drink app requires actual cooking and a delivery service, which is outside the scope of our company.\n",
    "\n",
    "* Finance apps — these apps involve banking, paying bills, money transfer, etc. Building a finance app requires domain knowledge, and we don't want to hire a finance expert just to build an app.\n",
    "\n",
    "Now let's analyze the Google Play market a bit."
   ]
  },
  {
   "cell_type": "markdown",
   "metadata": {},
   "source": [
    "## Most Popular Apps by Genre on Google Play"
   ]
  },
  {
   "cell_type": "markdown",
   "metadata": {},
   "source": [
    "For the Google Play market, we actually have data about the number of installs, so we should be able to get a clearer picture about genre popularity. However, the install numbers don't seem precise enough — we can see that most values are open-ended (100+, 1,000+, 5,000+, etc.):"
   ]
  },
  {
   "cell_type": "code",
   "execution_count": 87,
   "metadata": {},
   "outputs": [
    {
     "name": "stdout",
     "output_type": "stream",
     "text": [
      "1,000,000+: 15.72653429602888\n",
      "100,000+: 11.552346570397113\n",
      "10,000,000+: 10.548285198555957\n",
      "10,000+: 10.1985559566787\n",
      "1,000+: 8.393501805054152\n",
      "100+: 6.915613718411552\n",
      "5,000,000+: 6.825361010830325\n",
      "500,000+: 5.561823104693141\n",
      "50,000+: 4.772111913357401\n",
      "5,000+: 4.512635379061372\n",
      "10+: 3.542418772563177\n",
      "500+: 3.2490974729241877\n",
      "50,000,000+: 2.3014440433212995\n",
      "100,000,000+: 2.1322202166064983\n",
      "50+: 1.917870036101083\n",
      "5+: 0.7897111913357401\n",
      "1+: 0.5076714801444043\n",
      "500,000,000+: 0.27075812274368233\n",
      "1,000,000,000+: 0.22563176895306858\n",
      "0+: 0.04512635379061372\n",
      "0: 0.01128158844765343\n"
     ]
    }
   ],
   "source": [
    "installs_android = {} # Google Play Store - dictionary where the keys are the genres and the values are the absolute frequencies\n",
    "\n",
    "for app in android_free:\n",
    "    installs = app[5]\n",
    "    if installs in installs_android:\n",
    "        installs_android[installs] += 1\n",
    "    else:\n",
    "        installs_android[installs] = 1\n",
    "\n",
    "table_frequency_installs_android = {} # Google Play Store - table  of percentage frequencies for installs\n",
    "\n",
    "for installs in installs_android:\n",
    "    table_frequency_installs_android[installs] = 100*installs_android[installs] / len(android_free)\n",
    "    \n",
    "# tables of percentage frequencies ordered by values\n",
    "\n",
    "table_frequency_installs_android_ordered = {k: v for k, v in sorted( table_frequency_installs_android.items(), key=lambda item: item[1], reverse=True)}\n",
    "\n",
    "for installs in table_frequency_installs_android_ordered:\n",
    "    print(installs + ': '+ str(table_frequency_installs_android_ordered[installs]) )\n",
    "    \n"
   ]
  },
  {
   "cell_type": "markdown",
   "metadata": {},
   "source": [
    "One problem with this data is that is not precise. For instance, we don't know whether an app with 100,000+ installs has 100,000 installs, 200,000, or 350,000. However, we don't need very precise data for our purposes — we only want to get an idea which app genres attract the most users, and we don't need perfect precision with respect to the number of users.\n",
    "\n",
    "We're going to leave the numbers as they are, which means that we'll consider that an app with 100,000+ installs has 100,000 installs, and an app with 1,000,000+ installs has 1,000,000 installs, and so on.\n",
    "\n",
    "To perform computations, however, we'll need to convert each install number to float — this means that we need to remove the commas and the plus characters, otherwise the conversion will fail and raise an error. We'll do this directly in the loop below, where we also compute the average number of installs for each genre (category)."
   ]
  },
  {
   "cell_type": "code",
   "execution_count": 88,
   "metadata": {},
   "outputs": [
    {
     "name": "stdout",
     "output_type": "stream",
     "text": [
      "COMMUNICATION: 38456119.167247385\n",
      "VIDEO_PLAYERS: 24727872.452830188\n",
      "SOCIAL: 23253652.127118643\n",
      "PHOTOGRAPHY: 17840110.40229885\n",
      "PRODUCTIVITY: 16787331.344927534\n",
      "GAME: 15588015.603248259\n",
      "TRAVEL_AND_LOCAL: 13984077.710144928\n",
      "ENTERTAINMENT: 11640705.88235294\n",
      "TOOLS: 10801391.298666667\n",
      "NEWS_AND_MAGAZINES: 9549178.467741935\n",
      "BOOKS_AND_REFERENCE: 8767811.894736841\n",
      "SHOPPING: 7036877.311557789\n",
      "PERSONALIZATION: 5201482.6122448975\n",
      "WEATHER: 5074486.197183099\n",
      "HEALTH_AND_FITNESS: 4188821.9853479853\n",
      "MAPS_AND_NAVIGATION: 4056941.7741935486\n",
      "FAMILY: 3695641.8198090694\n",
      "SPORTS: 3638640.1428571427\n",
      "ART_AND_DESIGN: 1986335.0877192982\n",
      "FOOD_AND_DRINK: 1924897.7363636363\n",
      "EDUCATION: 1833495.145631068\n",
      "BUSINESS: 1712290.1474201474\n",
      "LIFESTYLE: 1437816.2687861272\n",
      "FINANCE: 1387692.475609756\n",
      "HOUSE_AND_HOME: 1331540.5616438356\n",
      "DATING: 854028.8303030303\n",
      "COMICS: 817657.2727272727\n",
      "AUTO_AND_VEHICLES: 647317.8170731707\n",
      "LIBRARIES_AND_DEMO: 638503.734939759\n",
      "PARENTING: 542603.6206896552\n",
      "BEAUTY: 513151.88679245283\n",
      "EVENTS: 253542.22222222222\n",
      "MEDICAL: 120550.61980830671\n"
     ]
    }
   ],
   "source": [
    "for app in android_free:\n",
    "    installs = str(app[5])\n",
    "    if \"+\" in installs:\n",
    "        installs=installs.replace('+','')\n",
    "        installs=installs.replace(',','')\n",
    "        app[5] = installs\n",
    "\n",
    "android_category_installs={}\n",
    "\n",
    "for app in android_free:\n",
    "    category = app[1]\n",
    "    installs = float(app[5])\n",
    "    if category in android_category_installs:\n",
    "        android_category_installs[category] = float(android_category_installs[category]) + installs\n",
    "    else:\n",
    "        android_category_installs[category] = installs\n",
    "                \n",
    "#print(android_genre_installs)\n",
    "table_frequency_category_inst={}\n",
    "\n",
    "for category in category_android:\n",
    "    table_frequency_category_inst[category] = float(android_category_installs[category]) / float(category_android[category])\n",
    "\n",
    "# tables of percentage frequencies ordered by values\n",
    "\n",
    "table_frequency_category_inst_ordered={k: v for k, v in sorted(table_frequency_category_inst.items(), key=lambda item: item[1], reverse=True)}\n",
    "\n",
    "for category in table_frequency_category_inst_ordered:\n",
    "    print(category + ': '+ str(table_frequency_category_inst_ordered[category]) )"
   ]
  },
  {
   "cell_type": "markdown",
   "metadata": {},
   "source": [
    "On average, communication apps have the most installs: 38,456,119. This number is heavily skewed up by a few apps that have over one billion installs (WhatsApp, Facebook Messenger, Skype, Google Chrome, Gmail, and Hangouts), and a few others with over 100 and 500 million installs:"
   ]
  },
  {
   "cell_type": "code",
   "execution_count": 89,
   "metadata": {},
   "outputs": [
    {
     "name": "stdout",
     "output_type": "stream",
     "text": [
      "['Drawing for Kids Learning Games for Toddlers age 3', 'FAMILY', '4.6', '29436', '43M', '1000000', 'Free', '0', 'Everyone', 'Educational;Education', 'March 21, 2018', '2.0.5.0', '4.1 and up']\n"
     ]
    }
   ],
   "source": [
    "print(android_free[1458])"
   ]
  },
  {
   "cell_type": "code",
   "execution_count": 90,
   "metadata": {},
   "outputs": [
    {
     "name": "stdout",
     "output_type": "stream",
     "text": [
      "WhatsApp Messenger : 1000000000\n",
      "imo beta free calls and text : 100000000\n",
      "Android Messages : 100000000\n",
      "Google Duo - High Quality Video Calls : 500000000\n",
      "Messenger – Text and Video Chat for Free : 1000000000\n",
      "imo free video calls and chat : 500000000\n",
      "Skype - free IM & video calls : 1000000000\n",
      "Who : 100000000\n",
      "GO SMS Pro - Messenger, Free Themes, Emoji : 100000000\n",
      "LINE: Free Calls & Messages : 500000000\n",
      "Google Chrome: Fast & Secure : 1000000000\n",
      "Firefox Browser fast & private : 100000000\n",
      "UC Browser - Fast Download Private & Secure : 500000000\n",
      "Gmail : 1000000000\n",
      "Hangouts : 1000000000\n",
      "Messenger Lite: Free Calls & Messages : 100000000\n",
      "Kik : 100000000\n",
      "KakaoTalk: Free Calls & Text : 100000000\n",
      "Opera Mini - fast web browser : 100000000\n",
      "Opera Browser: Fast and Secure : 100000000\n",
      "Telegram : 100000000\n",
      "Truecaller: Caller ID, SMS spam blocking & Dialer : 100000000\n",
      "UC Browser Mini -Tiny Fast Private & Secure : 100000000\n",
      "Viber Messenger : 500000000\n",
      "WeChat : 100000000\n",
      "Yahoo Mail – Stay Organized : 100000000\n",
      "BBM - Free Calls & Messages : 100000000\n"
     ]
    }
   ],
   "source": [
    "for app in android_free:\n",
    "    installs=float(app[5])\n",
    "    if app[1] == 'COMMUNICATION' and (installs == 1000000000\n",
    "                                      or installs == 500000000\n",
    "                                      or installs == 100000000) :\n",
    "        print(app[0], ':', app[5])\n",
    "        "
   ]
  },
  {
   "cell_type": "markdown",
   "metadata": {},
   "source": [
    "If we removed all the communication apps that have over 100 million installs, the average would be reduced roughly ten times:"
   ]
  },
  {
   "cell_type": "code",
   "execution_count": 91,
   "metadata": {},
   "outputs": [
    {
     "name": "stdout",
     "output_type": "stream",
     "text": [
      "3603485.3884615386\n"
     ]
    }
   ],
   "source": [
    "under_100_m = []\n",
    "\n",
    "for app in android_free:\n",
    "    installs = float(app[5])\n",
    "    \n",
    "    if (app[1] == 'COMMUNICATION') and (installs < 100000000) :\n",
    "        under_100_m.append(installs)\n",
    "        \n",
    "\n",
    "print(sum(under_100_m)/len(under_100_m))\n",
    "\n"
   ]
  },
  {
   "cell_type": "markdown",
   "metadata": {},
   "source": [
    "We see the same pattern for the video players category, which is the runner-up with 24,727,872 installs. The market is dominated by apps like Youtube, Google Play Movies & TV, or MX Player. The pattern is repeated for social apps (where we have giants like Facebook, Instagram, Google+, etc.), photography apps (Google Photos and other popular photo editors), or productivity apps (Microsoft Word, Dropbox, Google Calendar, Evernote, etc.).\n",
    "\n",
    "Again, the main concern is that these app genres might seem more popular than they really are. Moreover, these niches seem to be dominated by a few giants who are hard to compete against.\n",
    "\n",
    "The game genre seems pretty popular, but previously we found out this part of the market seems a bit saturated, so we'd like to come up with a different app recommendation if possible.\n",
    "\n",
    "The books and reference genre looks fairly popular as well, with an average number of installs of 8,767,811. It's interesting to explore this in more depth, since we found this genre has some potential to work well on the App Store, and our aim is to recommend an app genre that shows potential for being profitable on both the App Store and Google Play.\n",
    "\n",
    "Let's take a look at some of the apps from this genre and their number of installs:"
   ]
  },
  {
   "cell_type": "code",
   "execution_count": 92,
   "metadata": {},
   "outputs": [
    {
     "name": "stdout",
     "output_type": "stream",
     "text": [
      "E-Book Read - Read Book for free : 50000\n",
      "Download free book with green book : 100000\n",
      "Wikipedia : 10000000\n",
      "Cool Reader : 10000000\n",
      "Free Panda Radio Music : 100000\n",
      "Book store : 1000000\n",
      "FBReader: Favorite Book Reader : 10000000\n",
      "English Grammar Complete Handbook : 500000\n",
      "Free Books - Spirit Fanfiction and Stories : 1000000\n",
      "Google Play Books : 1000000000\n",
      "AlReader -any text book reader : 5000000\n",
      "Offline English Dictionary : 100000\n",
      "Offline: English to Tagalog Dictionary : 500000\n",
      "FamilySearch Tree : 1000000\n",
      "Cloud of Books : 1000000\n",
      "Recipes of Prophetic Medicine for free : 500000\n",
      "ReadEra – free ebook reader : 1000000\n",
      "Anonymous caller detection : 10000\n",
      "Ebook Reader : 5000000\n",
      "Litnet - E-books : 100000\n",
      "Read books online : 5000000\n",
      "English to Urdu Dictionary : 500000\n",
      "eBoox: book reader fb2 epub zip : 1000000\n",
      "English Persian Dictionary : 500000\n",
      "Flybook : 500000\n",
      "All Maths Formulas : 1000000\n",
      "Ancestry : 5000000\n",
      "HTC Help : 10000000\n",
      "English translation from Bengali : 100000\n",
      "Pdf Book Download - Read Pdf Book : 100000\n",
      "Free Book Reader : 100000\n",
      "eBoox new: Reader for fb2 epub zip books : 50000\n",
      "Only 30 days in English, the guideline is guaranteed : 500000\n",
      "Moon+ Reader : 10000000\n",
      "SH-02J Owner's Manual (Android 8.0) : 50000\n",
      "English-Myanmar Dictionary : 1000000\n",
      "Golden Dictionary (EN-AR) : 1000000\n",
      "All Language Translator Free : 1000000\n",
      "Azpen eReader : 500000\n",
      "URBANO V 02 instruction manual : 100000\n",
      "Bible : 100000000\n",
      "C Programs and Reference : 50000\n",
      "C Offline Tutorial : 1000\n",
      "C Programs Handbook : 50000\n",
      "Amazon Kindle : 100000000\n",
      "Aab e Hayat Full Novel : 100000\n",
      "Aldiko Book Reader : 10000000\n",
      "Google I/O 2018 : 500000\n",
      "R Language Reference Guide : 10000\n",
      "Learn R Programming Full : 5000\n",
      "R Programing Offline Tutorial : 1000\n",
      "Guide for R Programming : 5\n",
      "Learn R Programming : 10\n",
      "R Quick Reference Big Data : 1000\n",
      "V Made : 100000\n",
      "Wattpad 📖 Free Books : 100000000\n",
      "Dictionary - WordWeb : 5000000\n",
      "Guide (for X-MEN) : 100000\n",
      "AC Air condition Troubleshoot,Repair,Maintenance : 5000\n",
      "AE Bulletins : 1000\n",
      "Ae Allah na Dai (Rasa) : 10000\n",
      "50000 Free eBooks & Free AudioBooks : 5000000\n",
      "Ag PhD Field Guide : 10000\n",
      "Ag PhD Deficiencies : 10000\n",
      "Ag PhD Planting Population Calculator : 1000\n",
      "Ag PhD Soybean Diseases : 1000\n",
      "Fertilizer Removal By Crop : 50000\n",
      "A-J Media Vault : 50\n",
      "Al-Quran (Free) : 10000000\n",
      "Al Quran (Tafsir & by Word) : 500000\n",
      "Al Quran Indonesia : 10000000\n",
      "Al'Quran Bahasa Indonesia : 10000000\n",
      "Al Quran Al karim : 1000000\n",
      "Al-Muhaffiz : 50000\n",
      "Al Quran : EAlim - Translations & MP3 Offline : 5000000\n",
      "Al-Quran 30 Juz free copies : 500000\n",
      "Koran Read &MP3 30 Juz Offline : 1000000\n",
      "Hafizi Quran 15 lines per page : 1000000\n",
      "Quran for Android : 10000000\n",
      "Surah Al-Waqiah : 100000\n",
      "Hisnul Al Muslim - Hisn Invocations & Adhkaar : 100000\n",
      "Satellite AR : 1000000\n",
      "Audiobooks from Audible : 100000000\n",
      "Kinot & Eichah for Tisha B'Av : 10000\n",
      "AW Tozer Devotionals - Daily : 5000\n",
      "Tozer Devotional -Series 1 : 1000\n",
      "The Pursuit of God : 1000\n",
      "AY Sing : 5000\n",
      "Ay Hasnain k Nana Milad Naat : 10000\n",
      "Ay Mohabbat Teri Khatir Novel : 10000\n",
      "Arizona Statutes, ARS (AZ Law) : 1000\n",
      "Oxford A-Z of English Usage : 1000000\n",
      "BD Fishpedia : 1000\n",
      "BD All Sim Offer : 10000\n",
      "Youboox - Livres, BD et magazines : 500000\n",
      "B&H Kids AR : 10000\n",
      "B y H Niños ES : 5000\n",
      "Dictionary.com: Find Definitions for English Words : 10000000\n",
      "English Dictionary - Offline : 10000000\n",
      "Bible KJV : 5000000\n",
      "Borneo Bible, BM Bible : 10000\n",
      "MOD Black for BM : 100\n",
      "BM Box : 1000\n",
      "Anime Mod for BM : 100\n",
      "NOOK: Read eBooks & Magazines : 10000000\n",
      "NOOK Audiobooks : 500000\n",
      "NOOK App for NOOK Devices : 500000\n",
      "Browsery by Barnes & Noble : 5000\n",
      "bp e-store : 1000\n",
      "Brilliant Quotes: Life, Love, Family & Motivation : 1000000\n",
      "BR Ambedkar Biography & Quotes : 10000\n",
      "BU Alsace : 100\n",
      "Catholic La Bu Zo Kam : 500\n",
      "Khrifa Hla Bu (Solfa) : 10\n",
      "Kristian Hla Bu : 10000\n",
      "SA HLA BU : 1000\n",
      "Learn SAP BW : 500\n",
      "Learn SAP BW on HANA : 500\n",
      "CA Laws 2018 (California Laws and Codes) : 5000\n",
      "Bootable Methods(USB-CD-DVD) : 10000\n",
      "cloudLibrary : 100000\n",
      "SDA Collegiate Quarterly : 500\n",
      "Sabbath School : 100000\n",
      "Cypress College Library : 100\n",
      "Stats Royale for Clash Royale : 1000000\n",
      "GATE 21 years CS Papers(2011-2018 Solved) : 50\n",
      "Learn CT Scan Of Head : 5000\n",
      "Easy Cv maker 2018 : 10000\n",
      "How to Write CV : 100000\n",
      "CW Nuclear : 1000\n",
      "CY Spray nozzle : 10\n",
      "BibleRead En Cy Zh Yue : 5\n",
      "CZ-Help : 5\n",
      "Modlitební knížka CZ : 500\n",
      "Guide for DB Xenoverse : 10000\n",
      "Guide for DB Xenoverse 2 : 10000\n",
      "Guide for IMS DB : 10\n",
      "DC HSEMA : 5000\n",
      "DC Public Library : 1000\n",
      "Painting Lulu DC Super Friends : 1000\n",
      "Dictionary : 10000000\n",
      "Fix Error Google Playstore : 1000\n",
      "D. H. Lawrence Poems FREE : 1000\n",
      "Bilingual Dictionary Audio App : 5000\n",
      "DM Screen : 10000\n",
      "wikiHow: how to do anything : 1000000\n",
      "Dr. Doug's Tips : 1000\n",
      "Bible du Semeur-BDS (French) : 50000\n",
      "La citadelle du musulman : 50000\n",
      "DV 2019 Entry Guide : 10000\n",
      "DV 2019 - EDV Photo & Form : 50000\n",
      "DV 2018 Winners Guide : 1000\n",
      "EB Annual Meetings : 1000\n",
      "EC - AP & Telangana : 5000\n",
      "TN Patta Citta & EC : 10000\n",
      "AP Stamps and Registration : 10000\n",
      "CompactiMa EC pH Calibration : 100\n",
      "EGW Writings 2 : 100000\n",
      "EGW Writings : 1000000\n",
      "Bible with EGW Comments : 100000\n",
      "My Little Pony AR Guide : 1000000\n",
      "SDA Sabbath School Quarterly : 500000\n",
      "Duaa Ek Ibaadat : 5000\n",
      "Spanish English Translator : 10000000\n",
      "Dictionary - Merriam-Webster : 10000000\n",
      "JW Library : 10000000\n",
      "Oxford Dictionary of English : Free : 10000000\n",
      "English Hindi Dictionary : 10000000\n",
      "English to Hindi Dictionary : 5000000\n",
      "EP Research Service : 1000\n",
      "Hymnes et Louanges : 100000\n",
      "EU Charter : 1000\n",
      "EU Data Protection : 1000\n",
      "EU IP Codes : 100\n",
      "EW PDF : 5\n",
      "BakaReader EX : 100000\n",
      "EZ Quran : 50000\n",
      "FA Part 1 & 2 Past Papers Solved Free – Offline : 5000\n",
      "La Fe de Jesus : 1000\n",
      "La Fe de Jesús : 500\n",
      "Le Fe de Jesus : 500\n",
      "Florida - Pocket Brainbook : 1000\n",
      "Florida Statutes (FL Code) : 1000\n",
      "English To Shona Dictionary : 10000\n",
      "Greek Bible FP (Audio) : 1000\n",
      "Golden Dictionary (FR-AR) : 500000\n",
      "Fanfic-FR : 5000\n",
      "Bulgarian French Dictionary Fr : 10000\n",
      "Chemin (fr) : 1000\n",
      "The SCP Foundation DB fr nn5n : 1000\n"
     ]
    }
   ],
   "source": [
    "for app in android_free:\n",
    "    if app[1] == 'BOOKS_AND_REFERENCE':\n",
    "        print(app[0], ':', app[5])"
   ]
  },
  {
   "cell_type": "markdown",
   "metadata": {},
   "source": [
    "\n",
    "The book and reference genre includes a variety of apps: software for processing and reading ebooks, various collections of libraries, dictionaries, tutorials on programming or languages, etc. It seems there's still a small number of extremely popular apps that skew the average:"
   ]
  },
  {
   "cell_type": "code",
   "execution_count": 98,
   "metadata": {},
   "outputs": [
    {
     "name": "stdout",
     "output_type": "stream",
     "text": [
      "Google Play Books : 1000000000\n",
      "Bible : 100000000\n",
      "Amazon Kindle : 100000000\n",
      "Wattpad 📖 Free Books : 100000000\n",
      "Audiobooks from Audible : 100000000\n"
     ]
    }
   ],
   "source": [
    "for app in android_free:\n",
    "    if app[1] == 'BOOKS_AND_REFERENCE' and (float(app[5]) == 1000000000\n",
    "                                            or float(app[5]) == 500000000\n",
    "                                            or float(app[5]) == 100000000) :\n",
    "        print(app[0], ':', app[5])"
   ]
  },
  {
   "cell_type": "markdown",
   "metadata": {},
   "source": [
    "However, it looks like there are only a few very popular apps, so this market still shows potential. Let's try to get some app ideas based on the kind of apps that are somewhere in the middle in terms of popularity (between 1,000,000 and 100,000,000 downloads):\n"
   ]
  },
  {
   "cell_type": "code",
   "execution_count": 100,
   "metadata": {},
   "outputs": [
    {
     "name": "stdout",
     "output_type": "stream",
     "text": [
      "Wikipedia : 10000000\n",
      "Cool Reader : 10000000\n",
      "Book store : 1000000\n",
      "FBReader: Favorite Book Reader : 10000000\n",
      "Free Books - Spirit Fanfiction and Stories : 1000000\n",
      "AlReader -any text book reader : 5000000\n",
      "FamilySearch Tree : 1000000\n",
      "Cloud of Books : 1000000\n",
      "ReadEra – free ebook reader : 1000000\n",
      "Ebook Reader : 5000000\n",
      "Read books online : 5000000\n",
      "eBoox: book reader fb2 epub zip : 1000000\n",
      "All Maths Formulas : 1000000\n",
      "Ancestry : 5000000\n",
      "HTC Help : 10000000\n",
      "Moon+ Reader : 10000000\n",
      "English-Myanmar Dictionary : 1000000\n",
      "Golden Dictionary (EN-AR) : 1000000\n",
      "All Language Translator Free : 1000000\n",
      "Aldiko Book Reader : 10000000\n",
      "Dictionary - WordWeb : 5000000\n",
      "50000 Free eBooks & Free AudioBooks : 5000000\n",
      "Al-Quran (Free) : 10000000\n",
      "Al Quran Indonesia : 10000000\n",
      "Al'Quran Bahasa Indonesia : 10000000\n",
      "Al Quran Al karim : 1000000\n",
      "Al Quran : EAlim - Translations & MP3 Offline : 5000000\n",
      "Koran Read &MP3 30 Juz Offline : 1000000\n",
      "Hafizi Quran 15 lines per page : 1000000\n",
      "Quran for Android : 10000000\n",
      "Satellite AR : 1000000\n",
      "Oxford A-Z of English Usage : 1000000\n",
      "Dictionary.com: Find Definitions for English Words : 10000000\n",
      "English Dictionary - Offline : 10000000\n",
      "Bible KJV : 5000000\n",
      "NOOK: Read eBooks & Magazines : 10000000\n",
      "Brilliant Quotes: Life, Love, Family & Motivation : 1000000\n",
      "Stats Royale for Clash Royale : 1000000\n",
      "Dictionary : 10000000\n",
      "wikiHow: how to do anything : 1000000\n",
      "EGW Writings : 1000000\n",
      "My Little Pony AR Guide : 1000000\n",
      "Spanish English Translator : 10000000\n",
      "Dictionary - Merriam-Webster : 10000000\n",
      "JW Library : 10000000\n",
      "Oxford Dictionary of English : Free : 10000000\n",
      "English Hindi Dictionary : 10000000\n",
      "English to Hindi Dictionary : 5000000\n"
     ]
    }
   ],
   "source": [
    "for app in android_free:\n",
    "    if app[1] == 'BOOKS_AND_REFERENCE' and (float(app[5]) == 1000000\n",
    "                                            or float(app[5]) == 5000000\n",
    "                                            or float(app[5]) == 10000000\n",
    "                                            or float(app[5]) == 50000000):\n",
    "        print(app[0], ':', app[5])"
   ]
  },
  {
   "cell_type": "markdown",
   "metadata": {},
   "source": [
    "This niche seems to be dominated by software for processing and reading ebooks, as well as various collections of libraries and dictionaries, so it's probably not a good idea to build similar apps since there'll be some significant competition.\n",
    "\n",
    "We also notice there are quite a few apps built around the book Quran, which suggests that building an app around a popular book can be profitable. It seems that taking a popular book (perhaps a more recent book) and turning it into an app could be profitable for both the Google Play and the App Store markets.\n",
    "\n",
    "However, it looks like the market is already full of libraries, so we need to add some special features besides the raw version of the book. This might include daily quotes from the book, an audio version of the book, quizzes on the book, a forum where people can discuss the book, etc."
   ]
  },
  {
   "cell_type": "markdown",
   "metadata": {},
   "source": [
    "## Conclusions"
   ]
  },
  {
   "cell_type": "markdown",
   "metadata": {},
   "source": [
    "In this project, we analyzed data about the App Store and Google Play mobile apps with the goal of recommending an app profile that can be profitable for both markets.\n",
    "\n",
    "We concluded that taking a popular book (perhaps a more recent book) and turning it into an app could be profitable for both the Google Play and the App Store markets. The markets are already full of libraries, so we need to add some special features besides the raw version of the book. This might include daily quotes from the book, an audio version of the book, quizzes on the book, a forum where people can discuss the book, etc."
   ]
  }
 ],
 "metadata": {
  "kernelspec": {
   "display_name": "Python 3",
   "language": "python",
   "name": "python3"
  },
  "language_info": {
   "codemirror_mode": {
    "name": "ipython",
    "version": 3
   },
   "file_extension": ".py",
   "mimetype": "text/x-python",
   "name": "python",
   "nbconvert_exporter": "python",
   "pygments_lexer": "ipython3",
   "version": "3.7.4"
  }
 },
 "nbformat": 4,
 "nbformat_minor": 2
}
