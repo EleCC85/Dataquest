{
 "cells": [
  {
   "cell_type": "markdown",
   "metadata": {},
   "source": [
    "# Finding the most attractive App - Analyzing App Store and Google Play Markets"
   ]
  },
  {
   "cell_type": "markdown",
   "metadata": {},
   "source": [
    "Our goal is to identify the profile of the app that is more profitable, analyzing App Store and Google Play Markets. \n",
    "This help our developers to make data-driven decisions with respect to the kind of apps are likely to attract more users. "
   ]
  },
  {
   "cell_type": "markdown",
   "metadata": {},
   "source": [
    "## Opening and Exploring Data"
   ]
  },
  {
   "cell_type": "markdown",
   "metadata": {},
   "source": [
    "Considering the huge quantity of apps, we try to analyze a sample of data. In particular, we decide to analyze two existing data sets at no cost:\n",
    "* a data set cointaing data about approximately ten thousand Android apps from Google Play. You can download the data set directly from [this link](http://.\n",
    "* a data set cointaing data about approximately seven thousand iOs apps from App Store. You can download the data set directly from this link."
   ]
  },
  {
   "cell_type": "code",
   "execution_count": null,
   "metadata": {},
   "outputs": [],
   "source": []
  }
 ],
 "metadata": {
  "kernelspec": {
   "display_name": "Python 3",
   "language": "python",
   "name": "python3"
  },
  "language_info": {
   "codemirror_mode": {
    "name": "ipython",
    "version": 3
   },
   "file_extension": ".py",
   "mimetype": "text/x-python",
   "name": "python",
   "nbconvert_exporter": "python",
   "pygments_lexer": "ipython3",
   "version": "3.7.4"
  }
 },
 "nbformat": 4,
 "nbformat_minor": 2
}
